{
 "cells": [
  {
   "cell_type": "code",
   "execution_count": 2,
   "metadata": {},
   "outputs": [],
   "source": [
    "import pandas as pd\n",
    "from sklearn import tree\n",
    "\n",
    "train = pd.read_csv('CASAS.csv')    \n",
    "y_train = train['CARO']\n",
    "x_train = train.drop(['CARO'], axis=1).values \n",
    "decision_tree = tree.DecisionTreeClassifier(min_samples_leaf=5, min_samples_split=15, min_impurity_decrease = 0.0001, max_depth=20)\n",
    "decision_tree.fit(x_train, y_train)\n",
    "\n",
    "with open(\"Arvore.dot\", 'w') as f:\n",
    "     f = tree.export_graphviz(decision_tree,\n",
    "                              out_file=f,\n",
    "                              max_depth = 20,\n",
    "                              impurity = True,\n",
    "                              feature_names = list(train.drop(['CARO'], axis=1)),\n",
    "                              class_names = ['Barata', 'Media', 'Cara'],\n",
    "                              rounded = True,\n",
    "                              filled= True )"
   ]
  },
  {
   "cell_type": "code",
   "execution_count": null,
   "metadata": {},
   "outputs": [],
   "source": []
  }
 ],
 "metadata": {
  "kernelspec": {
   "display_name": "Python 3",
   "language": "python",
   "name": "python3"
  },
  "language_info": {
   "codemirror_mode": {
    "name": "ipython",
    "version": 3
   },
   "file_extension": ".py",
   "mimetype": "text/x-python",
   "name": "python",
   "nbconvert_exporter": "python",
   "pygments_lexer": "ipython3",
   "version": "3.8.3"
  }
 },
 "nbformat": 4,
 "nbformat_minor": 4
}
